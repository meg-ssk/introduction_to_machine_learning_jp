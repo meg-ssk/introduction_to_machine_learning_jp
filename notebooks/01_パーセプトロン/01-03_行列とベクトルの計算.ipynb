{
 "cells": [
  {
   "cell_type": "markdown",
   "id": "99490282",
   "metadata": {},
   "source": [
    "# 行列とベクトルの計算"
   ]
  },
  {
   "cell_type": "markdown",
   "id": "2bfa82d5",
   "metadata": {},
   "source": [
    "複数のパーセプトロンをつなげる多層パーセプトロンについて学ぶ前に、\n",
    "その基礎となる行列とベクトルの計算について振り返っておきましょう。\n",
    "\n",
    "行列の計算に自身のない人は以下のサイトの記事を見ながら復習しておきましょう。\n",
    "\n",
    "- https://mathwords.net/gyoretunonaiseki\n",
    "- https://mathwords.net/vecmatseki\n"
   ]
  },
  {
   "cell_type": "markdown",
   "id": "10a6e132",
   "metadata": {},
   "source": [
    "## 例題1"
   ]
  },
  {
   "cell_type": "markdown",
   "id": "a7744f11",
   "metadata": {},
   "source": [
    "次の計算をせよ。\n",
    "\n",
    "問１\n",
    "\n",
    "$\n",
    "\\begin{pmatrix}\n",
    "1 & 2 \\\\\n",
    "3 & 4 \\\\\n",
    "\\end{pmatrix}\n",
    "\\begin{pmatrix}\n",
    "1  \\\\\n",
    "2  \\\\\n",
    "\\end{pmatrix}\n",
    "$\n",
    "\n",
    "問2\n",
    "\n",
    "$\n",
    "\\begin{pmatrix}\n",
    "1 & 2 & 3\\\\\n",
    "4  & 5 & 6\\\\\n",
    "7  & 8 & 9\\\\\n",
    "\\end{pmatrix}\n",
    "\\begin{pmatrix}\n",
    "1  \\\\\n",
    "2  \\\\\n",
    "3  \\\\\n",
    "\\end{pmatrix}\n",
    "$\n",
    "\n",
    "問３\n",
    "\n",
    "$\n",
    "\\begin{pmatrix}\n",
    "w_{11} & w_{12} \\\\\n",
    "w_{21} & w_{22} \\\\\n",
    "\\end{pmatrix}\n",
    "\\begin{pmatrix}\n",
    "x_1  \\\\\n",
    "x_2  \\\\\n",
    "\\end{pmatrix}\n",
    "$"
   ]
  },
  {
   "cell_type": "markdown",
   "id": "ca30ee47",
   "metadata": {},
   "source": [
    "## 例題2"
   ]
  },
  {
   "cell_type": "markdown",
   "id": "7e6cb473",
   "metadata": {},
   "source": [
    "次の計算をせよ。\n",
    "\n",
    "問1\n",
    "\n",
    "$\n",
    "\\begin{pmatrix}\n",
    "w_{11} & w_{12} \\\\\n",
    "w_{21} & w_{22} \\\\\n",
    "w_{31} & w_{32} \\\\\n",
    "\\end{pmatrix}\n",
    "\\begin{pmatrix}\n",
    "x_1  \\\\\n",
    "x_2  \\\\\n",
    "\\end{pmatrix}\n",
    "$\n",
    "\n",
    "問２\n",
    "\n",
    "$\n",
    "\\begin{pmatrix}\n",
    "w_{11} & w_{12} & w_{13} \\\\\n",
    "w_{21} & w_{22} & w_{23}\\\\\n",
    "\\end{pmatrix}\n",
    "\\begin{pmatrix}\n",
    "x_1  \\\\\n",
    "x_2  \\\\\n",
    "x_3  \\\\\n",
    "\\end{pmatrix}\n",
    "$\n"
   ]
  },
  {
   "cell_type": "markdown",
   "id": "ede4f9ad",
   "metadata": {},
   "source": [
    "## 解答\n",
    "### 例題１解答\n",
    "- [問１解答](https://www.wolframalpha.com/input?i=%7B%7B1%2C+2%7D%2C%7B3%2C4%7D%7D%7D.%7B%7B1%7D%2C%7B2%7D%7D&lang=ja)\n",
    "- [問２解答](https://www.wolframalpha.com/input?i=%7B%7B1%2C+2%2C3%7D%2C%7B4%2C5%2C6%7D%2C%7B7%2C8%2C9%7D%7D%7D.%7B%7B1%7D%2C%7B2%7D%2C%7B3%7D%7D&lang=ja)\n",
    "- [問３解答](https://www.wolframalpha.com/input?i=%7B%7Bw11%2C+w12%7D%2C%7Bw21%2Cw22%7D%7D%7D.%7B%7Bx1%7D%2C%7Bx2%7D%7D&lang=ja)\n",
    "\n",
    "### 例題２解答\n",
    "- [問１解答](https://www.wolframalpha.com/input?i=%7B%7Bw11%2C+w12%7D%2C%7Bw21%2Cw22%7D%2C%7Bw31%2Cw32%7D%7D.%7B%7Bx1%7D%2C+%7Bx2%7D%7D)\n",
    "- [問２解答](https://www.wolframalpha.com/input?i=%7B%7Bw11%2C+w12%2Cw13%7D%2C%7Bw21%2Cw22%2Cw23%7D%7D%7D.%7B%7Bx1%7D%2C%7Bx2%7D%2C%7Bx3%7D%7D)"
   ]
  },
  {
   "cell_type": "markdown",
   "id": "7c94c97d",
   "metadata": {},
   "source": [
    "## 数式処理システムの活用"
   ]
  },
  {
   "cell_type": "markdown",
   "id": "ec6c8fe5",
   "metadata": {},
   "source": [
    "筆者自身は数式の計算をするときに、\n",
    "代表的な数式処理システムのひとつであるMathematicaを愛用しています。\n",
    "Mathematicaは高価な商用ソフトであるため、だれもが気軽に使えるものではないのが難点です。\n",
    "\n",
    "上記の例題程度の簡単な計算であればWolfram社が提供しているサービスである\n",
    "WolframAlphaであれば無償で使うことも出来るため、積極的に利用することをオススメします。\n",
    "\n",
    "**Wolfram Alpha**\n",
    "- https://www.wolframalpha.com"
   ]
  },
  {
   "cell_type": "code",
   "execution_count": null,
   "id": "b0773087",
   "metadata": {},
   "outputs": [],
   "source": []
  }
 ],
 "metadata": {
  "kernelspec": {
   "display_name": "Python 3 (ipykernel)",
   "language": "python",
   "name": "python3"
  },
  "language_info": {
   "codemirror_mode": {
    "name": "ipython",
    "version": 3
   },
   "file_extension": ".py",
   "mimetype": "text/x-python",
   "name": "python",
   "nbconvert_exporter": "python",
   "pygments_lexer": "ipython3",
   "version": "3.8.10"
  }
 },
 "nbformat": 4,
 "nbformat_minor": 5
}
