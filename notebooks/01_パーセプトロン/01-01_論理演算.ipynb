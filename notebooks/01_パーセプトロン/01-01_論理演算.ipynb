{
 "cells": [
  {
   "cell_type": "markdown",
   "id": "718eaf95",
   "metadata": {},
   "source": [
    "# 論理演算"
   ]
  },
  {
   "cell_type": "markdown",
   "id": "3865a4da",
   "metadata": {},
   "source": [
    "機械学習モデルで大事な考えであるパーセプトロンやニューラルネットワークについて学ぶ前に、\n",
    "それらの基礎となる論理演算について学びます。\n",
    "\n",
    "論理演算とは0(false/偽)と1(true/真)のどちらか2つに1つの値しか取らない値(Booleanと呼びます)\n",
    "が入力されたとき、一定のルールに基づいて、入力と同じように0または1を出力する計算のことです。\n",
    "\n",
    "代表的な論理演算の例を見ていきましょう。"
   ]
  },
  {
   "cell_type": "markdown",
   "id": "a0358419",
   "metadata": {},
   "source": [
    "## NOT演算"
   ]
  },
  {
   "cell_type": "markdown",
   "id": "1585f39d",
   "metadata": {},
   "source": [
    "NOT演算は以下の表のように、0が入力されたときには1を、1が入力されたときには0を返す、入力とは逆の数値を出力する演算です。\n",
    "式で表すときは$\\lnot A$と書きます。\n"
   ]
  },
  {
   "cell_type": "code",
   "execution_count": 1,
   "id": "efc94596",
   "metadata": {},
   "outputs": [],
   "source": [
    "import ttg"
   ]
  },
  {
   "cell_type": "code",
   "execution_count": 2,
   "id": "ea6786c8",
   "metadata": {},
   "outputs": [
    {
     "data": {
      "text/html": [
       "<div>\n",
       "<style scoped>\n",
       "    .dataframe tbody tr th:only-of-type {\n",
       "        vertical-align: middle;\n",
       "    }\n",
       "\n",
       "    .dataframe tbody tr th {\n",
       "        vertical-align: top;\n",
       "    }\n",
       "\n",
       "    .dataframe thead th {\n",
       "        text-align: right;\n",
       "    }\n",
       "</style>\n",
       "<table border=\"1\" class=\"dataframe\">\n",
       "  <thead>\n",
       "    <tr style=\"text-align: right;\">\n",
       "      <th></th>\n",
       "      <th>input</th>\n",
       "      <th>~input</th>\n",
       "    </tr>\n",
       "  </thead>\n",
       "  <tbody>\n",
       "    <tr>\n",
       "      <th>1</th>\n",
       "      <td>1</td>\n",
       "      <td>0</td>\n",
       "    </tr>\n",
       "    <tr>\n",
       "      <th>2</th>\n",
       "      <td>0</td>\n",
       "      <td>1</td>\n",
       "    </tr>\n",
       "  </tbody>\n",
       "</table>\n",
       "</div>"
      ],
      "text/plain": [
       "   input  ~input\n",
       "1      1       0\n",
       "2      0       1"
      ]
     },
     "execution_count": 2,
     "metadata": {},
     "output_type": "execute_result"
    }
   ],
   "source": [
    "table = ttg.Truths(['input'], ['~input'] )\n",
    "table.as_pandas()"
   ]
  },
  {
   "cell_type": "markdown",
   "id": "29fc181d",
   "metadata": {},
   "source": [
    "## AND演算"
   ]
  },
  {
   "cell_type": "markdown",
   "id": "16f50e10",
   "metadata": {},
   "source": [
    "ここから先は入力が２つある論理演算の代表例を見ていきます。\n",
    "\n",
    "AND演算は2つの入力の両方が1のときだけ1を返す演算です。\n",
    "式で表すと$A \\land B$と書きます。"
   ]
  },
  {
   "cell_type": "code",
   "execution_count": 3,
   "id": "afaf7ecf",
   "metadata": {},
   "outputs": [
    {
     "data": {
      "text/html": [
       "<div>\n",
       "<style scoped>\n",
       "    .dataframe tbody tr th:only-of-type {\n",
       "        vertical-align: middle;\n",
       "    }\n",
       "\n",
       "    .dataframe tbody tr th {\n",
       "        vertical-align: top;\n",
       "    }\n",
       "\n",
       "    .dataframe thead th {\n",
       "        text-align: right;\n",
       "    }\n",
       "</style>\n",
       "<table border=\"1\" class=\"dataframe\">\n",
       "  <thead>\n",
       "    <tr style=\"text-align: right;\">\n",
       "      <th></th>\n",
       "      <th>input1</th>\n",
       "      <th>input2</th>\n",
       "      <th>input1 and input2</th>\n",
       "    </tr>\n",
       "  </thead>\n",
       "  <tbody>\n",
       "    <tr>\n",
       "      <th>1</th>\n",
       "      <td>1</td>\n",
       "      <td>1</td>\n",
       "      <td>1</td>\n",
       "    </tr>\n",
       "    <tr>\n",
       "      <th>2</th>\n",
       "      <td>1</td>\n",
       "      <td>0</td>\n",
       "      <td>0</td>\n",
       "    </tr>\n",
       "    <tr>\n",
       "      <th>3</th>\n",
       "      <td>0</td>\n",
       "      <td>1</td>\n",
       "      <td>0</td>\n",
       "    </tr>\n",
       "    <tr>\n",
       "      <th>4</th>\n",
       "      <td>0</td>\n",
       "      <td>0</td>\n",
       "      <td>0</td>\n",
       "    </tr>\n",
       "  </tbody>\n",
       "</table>\n",
       "</div>"
      ],
      "text/plain": [
       "   input1  input2  input1 and input2\n",
       "1       1       1                  1\n",
       "2       1       0                  0\n",
       "3       0       1                  0\n",
       "4       0       0                  0"
      ]
     },
     "execution_count": 3,
     "metadata": {},
     "output_type": "execute_result"
    }
   ],
   "source": [
    "table = ttg.Truths(['input1', 'input2'], ['input1 and input2'] )\n",
    "table.as_pandas()"
   ]
  },
  {
   "cell_type": "markdown",
   "id": "6b89dc2a",
   "metadata": {},
   "source": [
    "## OR演算"
   ]
  },
  {
   "cell_type": "markdown",
   "id": "752d137f",
   "metadata": {},
   "source": [
    "OR演算は2つの入力のどちらか片方が1であれば1を返す演算です。\n",
    "入力が両方とも0のときだけ0を返す演算とも言いかえられます。\n",
    "式で表すと$A \\lor B$と書きます。"
   ]
  },
  {
   "cell_type": "code",
   "execution_count": 4,
   "id": "b561ce0b",
   "metadata": {},
   "outputs": [
    {
     "data": {
      "text/html": [
       "<div>\n",
       "<style scoped>\n",
       "    .dataframe tbody tr th:only-of-type {\n",
       "        vertical-align: middle;\n",
       "    }\n",
       "\n",
       "    .dataframe tbody tr th {\n",
       "        vertical-align: top;\n",
       "    }\n",
       "\n",
       "    .dataframe thead th {\n",
       "        text-align: right;\n",
       "    }\n",
       "</style>\n",
       "<table border=\"1\" class=\"dataframe\">\n",
       "  <thead>\n",
       "    <tr style=\"text-align: right;\">\n",
       "      <th></th>\n",
       "      <th>input1</th>\n",
       "      <th>input2</th>\n",
       "      <th>input1 or input2</th>\n",
       "    </tr>\n",
       "  </thead>\n",
       "  <tbody>\n",
       "    <tr>\n",
       "      <th>1</th>\n",
       "      <td>1</td>\n",
       "      <td>1</td>\n",
       "      <td>1</td>\n",
       "    </tr>\n",
       "    <tr>\n",
       "      <th>2</th>\n",
       "      <td>1</td>\n",
       "      <td>0</td>\n",
       "      <td>1</td>\n",
       "    </tr>\n",
       "    <tr>\n",
       "      <th>3</th>\n",
       "      <td>0</td>\n",
       "      <td>1</td>\n",
       "      <td>1</td>\n",
       "    </tr>\n",
       "    <tr>\n",
       "      <th>4</th>\n",
       "      <td>0</td>\n",
       "      <td>0</td>\n",
       "      <td>0</td>\n",
       "    </tr>\n",
       "  </tbody>\n",
       "</table>\n",
       "</div>"
      ],
      "text/plain": [
       "   input1  input2  input1 or input2\n",
       "1       1       1                 1\n",
       "2       1       0                 1\n",
       "3       0       1                 1\n",
       "4       0       0                 0"
      ]
     },
     "execution_count": 4,
     "metadata": {},
     "output_type": "execute_result"
    }
   ],
   "source": [
    "table = ttg.Truths(['input1', 'input2'], ['input1 or input2'] )\n",
    "table.as_pandas()"
   ]
  },
  {
   "cell_type": "markdown",
   "id": "fe89b9ee",
   "metadata": {},
   "source": [
    "## NAND演算"
   ]
  },
  {
   "cell_type": "markdown",
   "id": "79a1607c",
   "metadata": {},
   "source": [
    "NAND演算はNOT ANDを意味し、\n",
    "その名の通りANDの逆で、2つの入力の両方が1のときだけ0を返す演算です。 式で表すと $\\lnot (A \\land B)$ と書きます。"
   ]
  },
  {
   "cell_type": "code",
   "execution_count": 5,
   "id": "a2bb1f96",
   "metadata": {},
   "outputs": [
    {
     "data": {
      "text/html": [
       "<div>\n",
       "<style scoped>\n",
       "    .dataframe tbody tr th:only-of-type {\n",
       "        vertical-align: middle;\n",
       "    }\n",
       "\n",
       "    .dataframe tbody tr th {\n",
       "        vertical-align: top;\n",
       "    }\n",
       "\n",
       "    .dataframe thead th {\n",
       "        text-align: right;\n",
       "    }\n",
       "</style>\n",
       "<table border=\"1\" class=\"dataframe\">\n",
       "  <thead>\n",
       "    <tr style=\"text-align: right;\">\n",
       "      <th></th>\n",
       "      <th>input1</th>\n",
       "      <th>input2</th>\n",
       "      <th>input1 nand input2</th>\n",
       "    </tr>\n",
       "  </thead>\n",
       "  <tbody>\n",
       "    <tr>\n",
       "      <th>1</th>\n",
       "      <td>1</td>\n",
       "      <td>1</td>\n",
       "      <td>0</td>\n",
       "    </tr>\n",
       "    <tr>\n",
       "      <th>2</th>\n",
       "      <td>1</td>\n",
       "      <td>0</td>\n",
       "      <td>1</td>\n",
       "    </tr>\n",
       "    <tr>\n",
       "      <th>3</th>\n",
       "      <td>0</td>\n",
       "      <td>1</td>\n",
       "      <td>1</td>\n",
       "    </tr>\n",
       "    <tr>\n",
       "      <th>4</th>\n",
       "      <td>0</td>\n",
       "      <td>0</td>\n",
       "      <td>1</td>\n",
       "    </tr>\n",
       "  </tbody>\n",
       "</table>\n",
       "</div>"
      ],
      "text/plain": [
       "   input1  input2  input1 nand input2\n",
       "1       1       1                   0\n",
       "2       1       0                   1\n",
       "3       0       1                   1\n",
       "4       0       0                   1"
      ]
     },
     "execution_count": 5,
     "metadata": {},
     "output_type": "execute_result"
    }
   ],
   "source": [
    "table = ttg.Truths(['input1', 'input2'], ['input1 nand input2'] )\n",
    "table.as_pandas()"
   ]
  },
  {
   "cell_type": "markdown",
   "id": "160a1b8c",
   "metadata": {},
   "source": [
    "## NOR演算"
   ]
  },
  {
   "cell_type": "markdown",
   "id": "d30990ff",
   "metadata": {},
   "source": [
    "NOR演算はNOT ORを意味し、\n",
    "その名の通りORの逆で、2つの入力のどちらか片方が0であれば1を返す演算です。\n",
    "2つの入力の両方が0のときだけ1を返す演算とも言いかえられます。\n",
    "式で表すと $\\lnot (A \\lor B)$ と書きます。"
   ]
  },
  {
   "cell_type": "code",
   "execution_count": 6,
   "id": "8b5cd5a9",
   "metadata": {},
   "outputs": [
    {
     "data": {
      "text/html": [
       "<div>\n",
       "<style scoped>\n",
       "    .dataframe tbody tr th:only-of-type {\n",
       "        vertical-align: middle;\n",
       "    }\n",
       "\n",
       "    .dataframe tbody tr th {\n",
       "        vertical-align: top;\n",
       "    }\n",
       "\n",
       "    .dataframe thead th {\n",
       "        text-align: right;\n",
       "    }\n",
       "</style>\n",
       "<table border=\"1\" class=\"dataframe\">\n",
       "  <thead>\n",
       "    <tr style=\"text-align: right;\">\n",
       "      <th></th>\n",
       "      <th>input1</th>\n",
       "      <th>input2</th>\n",
       "      <th>input1 nor input2</th>\n",
       "    </tr>\n",
       "  </thead>\n",
       "  <tbody>\n",
       "    <tr>\n",
       "      <th>1</th>\n",
       "      <td>1</td>\n",
       "      <td>1</td>\n",
       "      <td>0</td>\n",
       "    </tr>\n",
       "    <tr>\n",
       "      <th>2</th>\n",
       "      <td>1</td>\n",
       "      <td>0</td>\n",
       "      <td>0</td>\n",
       "    </tr>\n",
       "    <tr>\n",
       "      <th>3</th>\n",
       "      <td>0</td>\n",
       "      <td>1</td>\n",
       "      <td>0</td>\n",
       "    </tr>\n",
       "    <tr>\n",
       "      <th>4</th>\n",
       "      <td>0</td>\n",
       "      <td>0</td>\n",
       "      <td>1</td>\n",
       "    </tr>\n",
       "  </tbody>\n",
       "</table>\n",
       "</div>"
      ],
      "text/plain": [
       "   input1  input2  input1 nor input2\n",
       "1       1       1                  0\n",
       "2       1       0                  0\n",
       "3       0       1                  0\n",
       "4       0       0                  1"
      ]
     },
     "execution_count": 6,
     "metadata": {},
     "output_type": "execute_result"
    }
   ],
   "source": [
    "table = ttg.Truths(['input1', 'input2'], ['input1 nor input2'] )\n",
    "table.as_pandas()"
   ]
  },
  {
   "cell_type": "markdown",
   "id": "5a634e0c",
   "metadata": {},
   "source": [
    "## XOR演算"
   ]
  },
  {
   "cell_type": "markdown",
   "id": "188491d8",
   "metadata": {},
   "source": [
    "XOR演算は２つの入力が同じ時には0を、異なるときには1を返す演算です。\n",
    "\n",
    "後にパーセプトロンについて学ぶときに示唆的な演算となりますので、心に留めておきましょう。"
   ]
  },
  {
   "cell_type": "code",
   "execution_count": 7,
   "id": "ea7d7e79",
   "metadata": {},
   "outputs": [
    {
     "data": {
      "text/html": [
       "<div>\n",
       "<style scoped>\n",
       "    .dataframe tbody tr th:only-of-type {\n",
       "        vertical-align: middle;\n",
       "    }\n",
       "\n",
       "    .dataframe tbody tr th {\n",
       "        vertical-align: top;\n",
       "    }\n",
       "\n",
       "    .dataframe thead th {\n",
       "        text-align: right;\n",
       "    }\n",
       "</style>\n",
       "<table border=\"1\" class=\"dataframe\">\n",
       "  <thead>\n",
       "    <tr style=\"text-align: right;\">\n",
       "      <th></th>\n",
       "      <th>input1</th>\n",
       "      <th>input2</th>\n",
       "      <th>input1 xor input2</th>\n",
       "    </tr>\n",
       "  </thead>\n",
       "  <tbody>\n",
       "    <tr>\n",
       "      <th>1</th>\n",
       "      <td>1</td>\n",
       "      <td>1</td>\n",
       "      <td>0</td>\n",
       "    </tr>\n",
       "    <tr>\n",
       "      <th>2</th>\n",
       "      <td>1</td>\n",
       "      <td>0</td>\n",
       "      <td>1</td>\n",
       "    </tr>\n",
       "    <tr>\n",
       "      <th>3</th>\n",
       "      <td>0</td>\n",
       "      <td>1</td>\n",
       "      <td>1</td>\n",
       "    </tr>\n",
       "    <tr>\n",
       "      <th>4</th>\n",
       "      <td>0</td>\n",
       "      <td>0</td>\n",
       "      <td>0</td>\n",
       "    </tr>\n",
       "  </tbody>\n",
       "</table>\n",
       "</div>"
      ],
      "text/plain": [
       "   input1  input2  input1 xor input2\n",
       "1       1       1                  0\n",
       "2       1       0                  1\n",
       "3       0       1                  1\n",
       "4       0       0                  0"
      ]
     },
     "execution_count": 7,
     "metadata": {},
     "output_type": "execute_result"
    }
   ],
   "source": [
    "table = ttg.Truths(['input1', 'input2'], ['input1 xor input2'] )\n",
    "table.as_pandas()"
   ]
  },
  {
   "cell_type": "markdown",
   "id": "7c5045eb",
   "metadata": {},
   "source": [
    "## どんな複雑な論理演算もこれらの論理演算と組み合わせて作ることが出来る"
   ]
  },
  {
   "cell_type": "markdown",
   "id": "9b64626f",
   "metadata": {},
   "source": [
    "ここでは論理演算は入力が最大で２つしかないシンプルな論理演算について学びました。\n",
    "しかし、入力が数多くあるどんなに複雑な論理演算でも、ここで紹介した簡単な論理演算を組み合わせて実現することができます。\n",
    "\n",
    "この考えがニューラルネットワークや深層学習など、複雑なタスクを行うアルゴリズムの実装に非常に重要な考えになっています。"
   ]
  },
  {
   "cell_type": "code",
   "execution_count": null,
   "id": "bee0f6ee",
   "metadata": {},
   "outputs": [],
   "source": []
  }
 ],
 "metadata": {
  "kernelspec": {
   "display_name": "Python 3 (ipykernel)",
   "language": "python",
   "name": "python3"
  },
  "language_info": {
   "codemirror_mode": {
    "name": "ipython",
    "version": 3
   },
   "file_extension": ".py",
   "mimetype": "text/x-python",
   "name": "python",
   "nbconvert_exporter": "python",
   "pygments_lexer": "ipython3",
   "version": "3.8.10"
  }
 },
 "nbformat": 4,
 "nbformat_minor": 5
}
