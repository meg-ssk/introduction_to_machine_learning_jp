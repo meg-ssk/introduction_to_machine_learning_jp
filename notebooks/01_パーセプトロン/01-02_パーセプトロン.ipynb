{
 "cells": [
  {
   "cell_type": "markdown",
   "id": "155aa9c8",
   "metadata": {},
   "source": [
    "# パーセプトロン"
   ]
  },
  {
   "cell_type": "markdown",
   "id": "d46affe6",
   "metadata": {},
   "source": [
    "TBD..."
   ]
  },
  {
   "cell_type": "code",
   "execution_count": 1,
   "id": "af996497",
   "metadata": {},
   "outputs": [],
   "source": [
    "import numpy as np\n",
    "\n",
    "import sys\n",
    "sys.path.append('../lib/')\n",
    "\n",
    "from perceptron import perceptron_gates"
   ]
  },
  {
   "cell_type": "code",
   "execution_count": 6,
   "id": "e153768a",
   "metadata": {},
   "outputs": [
    {
     "data": {
      "text/plain": [
       "0"
      ]
     },
     "execution_count": 6,
     "metadata": {},
     "output_type": "execute_result"
    }
   ],
   "source": [
    "perceptron = perceptron_gates.PerceptronGates\n",
    "perceptron.and_gate(0,1)"
   ]
  },
  {
   "cell_type": "code",
   "execution_count": null,
   "id": "953d2272",
   "metadata": {},
   "outputs": [],
   "source": []
  },
  {
   "cell_type": "code",
   "execution_count": null,
   "id": "a258e473",
   "metadata": {},
   "outputs": [],
   "source": []
  }
 ],
 "metadata": {
  "kernelspec": {
   "display_name": "Python 3 (ipykernel)",
   "language": "python",
   "name": "python3"
  },
  "language_info": {
   "codemirror_mode": {
    "name": "ipython",
    "version": 3
   },
   "file_extension": ".py",
   "mimetype": "text/x-python",
   "name": "python",
   "nbconvert_exporter": "python",
   "pygments_lexer": "ipython3",
   "version": "3.8.10"
  }
 },
 "nbformat": 4,
 "nbformat_minor": 5
}
