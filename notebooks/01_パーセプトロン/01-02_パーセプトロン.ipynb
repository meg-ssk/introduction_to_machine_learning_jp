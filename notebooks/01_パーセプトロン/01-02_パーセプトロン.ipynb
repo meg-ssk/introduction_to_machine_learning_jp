{
 "cells": [
  {
   "cell_type": "markdown",
   "id": "155aa9c8",
   "metadata": {},
   "source": [
    "# パーセプトロン"
   ]
  },
  {
   "cell_type": "markdown",
   "id": "d46affe6",
   "metadata": {},
   "source": [
    "前節では$(0,0), (0,1), (1,0), (1,1)$という４通りの入力に対して\n"
   ]
  },
  {
   "cell_type": "code",
   "execution_count": 1,
   "id": "af996497",
   "metadata": {},
   "outputs": [],
   "source": [
    "import numpy as np\n",
    "\n",
    "import sys\n",
    "sys.path.append('../lib/')\n",
    "\n",
    "from perceptron import perceptron_gates"
   ]
  },
  {
   "cell_type": "code",
   "execution_count": 2,
   "id": "e153768a",
   "metadata": {},
   "outputs": [
    {
     "data": {
      "text/plain": [
       "1"
      ]
     },
     "execution_count": 2,
     "metadata": {},
     "output_type": "execute_result"
    }
   ],
   "source": [
    "perceptron = perceptron_gates.PerceptronGates()\n",
    "perceptron.xor_gate(1,0)"
   ]
  },
  {
   "cell_type": "code",
   "execution_count": 3,
   "id": "953d2272",
   "metadata": {},
   "outputs": [],
   "source": [
    "perceptron_visualizer = perceptron_gates.VisualizePerceptron()\n"
   ]
  },
  {
   "cell_type": "code",
   "execution_count": 4,
   "id": "a258e473",
   "metadata": {},
   "outputs": [
    {
     "ename": "AttributeError",
     "evalue": "'VisualizePerceptron' object has no attribute 'lattice_point'",
     "output_type": "error",
     "traceback": [
      "\u001b[0;31m---------------------------------------------------------------------------\u001b[0m",
      "\u001b[0;31mAttributeError\u001b[0m                            Traceback (most recent call last)",
      "Input \u001b[0;32mIn [4]\u001b[0m, in \u001b[0;36m<cell line: 1>\u001b[0;34m()\u001b[0m\n\u001b[0;32m----> 1\u001b[0m \u001b[43mperceptron_visualizer\u001b[49m\u001b[38;5;241;43m.\u001b[39;49m\u001b[43mvisualize_and_gate\u001b[49m\u001b[43m(\u001b[49m\u001b[43m)\u001b[49m\n",
      "File \u001b[0;32m~/github/introduction_to_machine_learning_jp/notebooks/01_パーセプトロン/../lib/perceptron/perceptron_gates.py:72\u001b[0m, in \u001b[0;36mVisualizePerceptron.visualize_and_gate\u001b[0;34m(self)\u001b[0m\n\u001b[1;32m     69\u001b[0m plt\u001b[38;5;241m.\u001b[39mxlim([\u001b[38;5;241m-\u001b[39m\u001b[38;5;241m0.25\u001b[39m, \u001b[38;5;241m1.5\u001b[39m])\n\u001b[1;32m     70\u001b[0m plt\u001b[38;5;241m.\u001b[39mylim([\u001b[38;5;241m-\u001b[39m\u001b[38;5;241m0.25\u001b[39m, \u001b[38;5;241m1.5\u001b[39m])\n\u001b[0;32m---> 72\u001b[0m plt\u001b[38;5;241m.\u001b[39mscatter(\u001b[38;5;28;43mself\u001b[39;49m\u001b[38;5;241;43m.\u001b[39;49m\u001b[43mlattice_point\u001b[49m)\n\u001b[1;32m     73\u001b[0m plt\u001b[38;5;241m.\u001b[39mplot(x1, x2)\n\u001b[1;32m     74\u001b[0m plt\u001b[38;5;241m.\u001b[39mscatter(\u001b[38;5;28mself\u001b[39m\u001b[38;5;241m.\u001b[39mlattice_points_x, \u001b[38;5;28mself\u001b[39m\u001b[38;5;241m.\u001b[39mlattice_points_y)\n",
      "\u001b[0;31mAttributeError\u001b[0m: 'VisualizePerceptron' object has no attribute 'lattice_point'"
     ]
    },
    {
     "data": {
      "image/png": "[encoded data removed]",
      "text/plain": [
       "<Figure size 432x288 with 1 Axes>"
      ]
     },
     "metadata": {
      "needs_background": "light"
     },
     "output_type": "display_data"
    }
   ],
   "source": [
    "perceptron_visualizer.visualize_and_gate()"
   ]
  },
  {
   "cell_type": "code",
   "execution_count": null,
   "id": "3f1d5595",
   "metadata": {},
   "outputs": [],
   "source": []
  }
 ],
 "metadata": {
  "kernelspec": {
   "display_name": "Python 3 (ipykernel)",
   "language": "python",
   "name": "python3"
  },
  "language_info": {
   "codemirror_mode": {
    "name": "ipython",
    "version": 3
   },
   "file_extension": ".py",
   "mimetype": "text/x-python",
   "name": "python",
   "nbconvert_exporter": "python",
   "pygments_lexer": "ipython3",
   "version": "3.8.10"
  }
 },
 "nbformat": 4,
 "nbformat_minor": 5
}
