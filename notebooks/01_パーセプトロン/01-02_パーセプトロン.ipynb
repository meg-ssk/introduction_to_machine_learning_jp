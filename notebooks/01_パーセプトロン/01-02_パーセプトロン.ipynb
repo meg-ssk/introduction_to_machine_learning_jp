{
 "cells": [
  {
   "cell_type": "markdown",
   "id": "155aa9c8",
   "metadata": {},
   "source": [
    "# パーセプトロン"
   ]
  },
  {
   "cell_type": "markdown",
   "id": "d46affe6",
   "metadata": {},
   "source": [
    "前節では$(0,0), (0,1), (1,0), (1,1)$という４通りの入力に対して\n"
   ]
  },
  {
   "cell_type": "code",
   "execution_count": 1,
   "id": "af996497",
   "metadata": {},
   "outputs": [],
   "source": [
    "import numpy as np\n",
    "\n",
    "import sys\n",
    "sys.path.append('../lib/')\n",
    "\n",
    "from perceptron import perceptron_gates"
   ]
  },
  {
   "cell_type": "code",
   "execution_count": 2,
   "id": "e153768a",
   "metadata": {},
   "outputs": [
    {
     "data": {
      "text/plain": [
       "1"
      ]
     },
     "execution_count": 2,
     "metadata": {},
     "output_type": "execute_result"
    }
   ],
   "source": [
    "perceptron = perceptron_gates.PerceptronGates()\n",
    "perceptron.xor_gate(1,0)"
   ]
  },
  {
   "cell_type": "code",
   "execution_count": 3,
   "id": "953d2272",
   "metadata": {},
   "outputs": [],
   "source": [
    "perceptron_visualizer = perceptron_gates.VisualizePerceptron()\n"
   ]
  },
  {
   "cell_type": "code",
   "execution_count": 4,
   "id": "a258e473",
   "metadata": {},
   "outputs": [
    {
     "data": {
      "image/png": "[encoded data removed]",
      "text/plain": [
       "<Figure size 432x288 with 1 Axes>"
      ]
     },
     "metadata": {
      "needs_background": "light"
     },
     "output_type": "display_data"
    }
   ],
   "source": [
    "perceptron_visualizer.visualize_and_gate()"
   ]
  },
  {
   "cell_type": "code",
   "execution_count": null,
   "id": "9d41395c",
   "metadata": {},
   "outputs": [],
   "source": []
  }
 ],
 "metadata": {
  "kernelspec": {
   "display_name": "Python 3 (ipykernel)",
   "language": "python",
   "name": "python3"
  },
  "language_info": {
   "codemirror_mode": {
    "name": "ipython",
    "version": 3
   },
   "file_extension": ".py",
   "mimetype": "text/x-python",
   "name": "python",
   "nbconvert_exporter": "python",
   "pygments_lexer": "ipython3",
   "version": "3.8.10"
  }
 },
 "nbformat": 4,
 "nbformat_minor": 5
}
